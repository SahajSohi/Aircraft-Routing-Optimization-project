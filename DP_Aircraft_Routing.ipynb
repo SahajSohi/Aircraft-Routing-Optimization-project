{
  "nbformat": 4,
  "nbformat_minor": 0,
  "metadata": {
    "colab": {
      "provenance": [],
      "authorship_tag": "ABX9TyP+nhCAY7OMJKTXoQcWaMVe",
      "include_colab_link": true
    },
    "kernelspec": {
      "name": "python3",
      "display_name": "Python 3"
    },
    "language_info": {
      "name": "python"
    }
  },
  "cells": [
    {
      "cell_type": "markdown",
      "metadata": {
        "id": "view-in-github",
        "colab_type": "text"
      },
      "source": [
        "<a href=\"https://colab.research.google.com/github/SahajSohi/Aircraft-Routing-Optimization-project/blob/main/DP_Aircraft_Routing.ipynb\" target=\"_parent\"><img src=\"https://colab.research.google.com/assets/colab-badge.svg\" alt=\"Open In Colab\"/></a>"
      ]
    },
    {
      "cell_type": "markdown",
      "source": [
        "Importing Necessary Libraries"
      ],
      "metadata": {
        "id": "fTgh3bCwr37-"
      }
    },
    {
      "cell_type": "code",
      "source": [
        "import pandas as pd\n",
        "import numpy as np\n",
        "import datetime\n",
        "from datetime import timedelta\n",
        "import random\n",
        "import copy\n",
        "import time\n",
        "import plotly.express as px\n",
        "import matplotlib.pyplot as plt\n",
        "random.seed(0)\n",
        "np.random.seed(0)"
      ],
      "metadata": {
        "id": "7eZoPBv-r7Qc"
      },
      "execution_count": 4,
      "outputs": []
    },
    {
      "cell_type": "markdown",
      "source": [
        "Reading the Input Data File"
      ],
      "metadata": {
        "id": "qvw3gQ_Zr8gb"
      }
    },
    {
      "cell_type": "code",
      "source": [
        "df=pd.read_excel('/content/Flight_Schedule (Final Version).xlsx')"
      ],
      "metadata": {
        "id": "8_6iNuLjt9VE"
      },
      "execution_count": 5,
      "outputs": []
    },
    {
      "cell_type": "markdown",
      "source": [
        "Creating the Classes"
      ],
      "metadata": {
        "id": "EVm774hZux5f"
      }
    },
    {
      "cell_type": "code",
      "source": [
        "class airport:\n",
        "\n",
        "    def __init__(self, aport, aircraftCount_dict):\n",
        "        self.aport = aport\n",
        "        self.aircraftCount_dict = aircraftCount_dict\n",
        "\n",
        "class originAirport:\n",
        "\n",
        "    def __init__(self, airport, deptime, depday):\n",
        "        self.airport = airport\n",
        "        self.deptime = deptime\n",
        "        self.depday = depday\n",
        "class destinationAirport:\n",
        "\n",
        "    def __init__(self, airport, arrtime, arrday, elapsed_time, total_prop_delay, flight_time):\n",
        "        self.airport = airport\n",
        "        self.arrtime = arrtime\n",
        "        self.arrday = arrday\n",
        "        self.elapsed_time = elapsed_time\n",
        "        self.total_prop_delay = total_prop_delay\n",
        "        self.flight_time = flight_time\n",
        "\n",
        "class FlightLeg:\n",
        "\n",
        "    def __init__(self,origin,dest,flights,day,arr_delay,dep_datetime,arr_datetime,flighttime,\n",
        "                 total_propagated_delay,pointer,elapsed_time, processed, firstnodeorigin, fleet):\n",
        "        self.origin = origin\n",
        "        self.dest = dest\n",
        "        self.flights = flights\n",
        "        self.day = day\n",
        "        self.arr_delay = arr_delay\n",
        "        self.dep_datetime = self.dateTimeObject(str(dep_datetime))\n",
        "        self.arr_datetime = self.dateTimeObject(str(arr_datetime))\n",
        "        self.flighttime = flighttime\n",
        "        self.total_propagated_delay = total_propagated_delay\n",
        "        self.pointer = pointer\n",
        "        self.elapsed_time = elapsed_time\n",
        "        self.processed = processed\n",
        "        self.firstnodeorigin = firstnodeorigin\n",
        "        self.fleet = fleet\n",
        "\n",
        "    def dateTimeObject(self,String):\n",
        "        return datetime.datetime.strptime(String,\"%Y-%m-%d %H:%M:%S\")"
      ],
      "metadata": {
        "id": "fcPlN2PCu45d"
      },
      "execution_count": 6,
      "outputs": []
    },
    {
      "cell_type": "markdown",
      "source": [
        "Calculating Slack Time, Propogated Delays and Elapsed Time"
      ],
      "metadata": {
        "id": "8NqY0oBn2X8H"
      }
    },
    {
      "cell_type": "code",
      "source": [
        "def calculate_slack_time_seconds(Dept,Arr, day1, day2, mean_turnaround_time):\n",
        "    if day1 >= day2:\n",
        "        return ((Dept-Arr).total_seconds() - mean_turnaround_time)\n",
        "    else:\n",
        "        return -99\n",
        "\n",
        "def check_slack_time_seconds_validity(slack_time):\n",
        "    return (24.*3600)>=slack_time>=0 #Check for flights within stipulated time for connection not beyond that\n",
        "\n",
        "def check_time_elapsed_validity_seconds(time_elapsed):\n",
        "    return (0<=time_elapsed<=36*60*60)\n",
        "\n",
        "def calculate_propagated_delay_seconds(prev_prop_delay,arrival_delay,slack_time):\n",
        "    prop_delay = prev_prop_delay+arrival_delay-slack_time # when arrival delay is in seconds\n",
        "    return max(0, prop_delay)\n",
        "\n",
        "def calculate_time_elapsed(prev_elapsed_time,Arr,Dept):\n",
        "    return prev_elapsed_time+(Dept-Arr).total_seconds()"
      ],
      "metadata": {
        "id": "Z0HQ41AI2o46"
      },
      "execution_count": 7,
      "outputs": []
    }
  ]
}