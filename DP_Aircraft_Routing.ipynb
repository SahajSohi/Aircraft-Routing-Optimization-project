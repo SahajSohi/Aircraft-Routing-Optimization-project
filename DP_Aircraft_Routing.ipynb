{
  "nbformat": 4,
  "nbformat_minor": 0,
  "metadata": {
    "colab": {
      "provenance": [],
      "authorship_tag": "ABX9TyO2qIG48hR2hqANfiT81Y2c",
      "include_colab_link": true
    },
    "kernelspec": {
      "name": "python3",
      "display_name": "Python 3"
    },
    "language_info": {
      "name": "python"
    }
  },
  "cells": [
    {
      "cell_type": "markdown",
      "metadata": {
        "id": "view-in-github",
        "colab_type": "text"
      },
      "source": [
        "<a href=\"https://colab.research.google.com/github/SahajSohi/Aircraft-Routing-Optimization-project/blob/main/DP_Aircraft_Routing.ipynb\" target=\"_parent\"><img src=\"https://colab.research.google.com/assets/colab-badge.svg\" alt=\"Open In Colab\"/></a>"
      ]
    },
    {
      "cell_type": "markdown",
      "source": [
        "Importing Necessary Libraries"
      ],
      "metadata": {
        "id": "fTgh3bCwr37-"
      }
    },
    {
      "cell_type": "code",
      "source": [
        "import pandas as pd\n",
        "import numpy as np\n",
        "import datetime\n",
        "from datetime import timedelta\n",
        "import random\n",
        "import copy\n",
        "import time\n",
        "import plotly.express as px\n",
        "import matplotlib.pyplot as plt\n",
        "random.seed(0)\n",
        "np.random.seed(0)\n",
        "!pip install pyomo\n",
        "!apt-get install -y glpk-utils\n",
        "\n",
        "import pyomo.environ as pyo\n",
        "from pyomo.opt import SolverFactory"
      ],
      "metadata": {
        "id": "7eZoPBv-r7Qc",
        "colab": {
          "base_uri": "https://localhost:8080/"
        },
        "outputId": "93552524-5aee-4897-c57b-cc82ceeed4d5"
      },
      "execution_count": 10,
      "outputs": [
        {
          "output_type": "stream",
          "name": "stdout",
          "text": [
            "Requirement already satisfied: pyomo in /usr/local/lib/python3.10/dist-packages (6.7.3)\n",
            "Requirement already satisfied: ply in /usr/local/lib/python3.10/dist-packages (from pyomo) (3.11)\n",
            "Reading package lists... Done\n",
            "Building dependency tree... Done\n",
            "Reading state information... Done\n",
            "glpk-utils is already the newest version (5.0-1).\n",
            "0 upgraded, 0 newly installed, 0 to remove and 45 not upgraded.\n"
          ]
        }
      ]
    },
    {
      "cell_type": "markdown",
      "source": [
        "Reading the Input Data File"
      ],
      "metadata": {
        "id": "qvw3gQ_Zr8gb"
      }
    },
    {
      "cell_type": "code",
      "source": [
        "df=pd.read_excel('/content/Indigo_Data_Format (1).xlsx')"
      ],
      "metadata": {
        "id": "8_6iNuLjt9VE"
      },
      "execution_count": 11,
      "outputs": []
    },
    {
      "cell_type": "markdown",
      "source": [
        "Creating the Classes"
      ],
      "metadata": {
        "id": "EVm774hZux5f"
      }
    },
    {
      "cell_type": "code",
      "source": [
        "class airport:\n",
        "\n",
        "    def __init__(self, aport, aircraftCount_dict):\n",
        "        self.aport = aport\n",
        "        self.aircraftCount_dict = aircraftCount_dict\n",
        "\n",
        "class originAirport:\n",
        "\n",
        "    def __init__(self, airport, deptime, depday):\n",
        "        self.airport = airport\n",
        "        self.deptime = deptime\n",
        "        self.depday = depday\n",
        "\n",
        "class destinationAirport:\n",
        "\n",
        "    def __init__(self, airport, arrtime, arrday, elapsed_time, total_prop_delay, flight_time):\n",
        "        self.airport = airport\n",
        "        self.arrtime = arrtime\n",
        "        self.arrday = arrday\n",
        "        self.elapsed_time = elapsed_time\n",
        "        self.total_prop_delay = total_prop_delay\n",
        "        self.flight_time = flight_time\n",
        "\n",
        "class FlightLeg:\n",
        "\n",
        "    def __init__(self,origin,dest,flights,day,arr_delay,dep_datetime,arr_datetime,flighttime,\n",
        "                 total_propagated_delay,pointer,elapsed_time, processed, firstnodeorigin, fleet):\n",
        "        self.origin = origin\n",
        "        self.dest = dest\n",
        "        self.flights = flights\n",
        "        self.day = day\n",
        "        self.arr_delay = arr_delay\n",
        "        self.dep_datetime = self.dateTimeObject(str(dep_datetime))\n",
        "        self.arr_datetime = self.dateTimeObject(str(arr_datetime))\n",
        "        self.flighttime = flighttime\n",
        "        self.total_propagated_delay = total_propagated_delay\n",
        "        self.pointer = pointer\n",
        "        self.elapsed_time = elapsed_time\n",
        "        self.processed = processed\n",
        "        self.firstnodeorigin = firstnodeorigin\n",
        "        self.fleet = fleet\n",
        "\n",
        "    def dateTimeObject(self,String):\n",
        "        return datetime.datetime.strptime(String,\"%Y-%m-%d %H:%M:%S\")"
      ],
      "metadata": {
        "id": "fcPlN2PCu45d"
      },
      "execution_count": 12,
      "outputs": []
    },
    {
      "cell_type": "markdown",
      "source": [
        "Calculating Slack Time, Propogated Delays and Elapsed Time"
      ],
      "metadata": {
        "id": "8NqY0oBn2X8H"
      }
    },
    {
      "cell_type": "code",
      "source": [
        "def calculate_slack_time_seconds(Dept,Arr, day1, day2, mean_turnaround_time):\n",
        "    if day1 >= day2:\n",
        "        return ((Dept-Arr).total_seconds() - mean_turnaround_time)\n",
        "    else:\n",
        "        return -99\n",
        "\n",
        "def check_slack_time_seconds_validity(slack_time):\n",
        "    return (24.*3600)>=slack_time>=0 #Check for flights within stipulated time for connection not beyond that\n",
        "\n",
        "def check_time_elapsed_validity_seconds(time_elapsed):\n",
        "    return (0<=time_elapsed<=36*60*60)\n",
        "\n",
        "def calculate_propagated_delay_seconds(prev_prop_delay,arrival_delay,slack_time):\n",
        "    prop_delay = prev_prop_delay+arrival_delay-slack_time # when arrival delay is in seconds\n",
        "    return max(0, prop_delay)\n",
        "\n",
        "def calculate_time_elapsed(prev_elapsed_time,Arr,Dept):\n",
        "    return prev_elapsed_time+(Dept-Arr).total_seconds()"
      ],
      "metadata": {
        "id": "Z0HQ41AI2o46"
      },
      "execution_count": 13,
      "outputs": []
    },
    {
      "cell_type": "code",
      "source": [
        "mean_turnaround_time = 3600\n",
        "def process_row(row):\n",
        "\n",
        " day1 = Dept.date()\n",
        " day2 = Arr.date()\n",
        " Arr = int(row['CRS_ARR_DATETIME'])\n",
        " Dept = int(row['CRS_DEP_DATETIME'])\n",
        " return calculate_slack_time_seconds(Dept, Arr, day1, day2, mean_turnaround_time)\n",
        "\n",
        " df['Slack_Time_Seconds'] = df.apply(compute_slack_time, axis=1)\n",
        " print(df[['CRS_ARR_DATETIME', 'CRS_DEP_DATETIME', 'Slack_Time_Seconds']])\n",
        "\n"
      ],
      "metadata": {
        "id": "CHAX1ZT8MIL3"
      },
      "execution_count": 18,
      "outputs": []
    },
    {
      "cell_type": "code",
      "source": [
        " df.to_excel('output_with_slack_time.xlsx', index=False)"
      ],
      "metadata": {
        "id": "45ZU-76NPb7-"
      },
      "execution_count": 19,
      "outputs": []
    },
    {
      "cell_type": "code",
      "source": [],
      "metadata": {
        "id": "fjKBKOMaAlSM",
        "outputId": "a0d6e4d0-4070-48d5-80e7-858c99d8a468",
        "colab": {
          "base_uri": "https://localhost:8080/",
          "height": 141
        }
      },
      "execution_count": 5,
      "outputs": [
        {
          "output_type": "error",
          "ename": "NameError",
          "evalue": "name 'Dept' is not defined",
          "traceback": [
            "\u001b[0;31m---------------------------------------------------------------------------\u001b[0m",
            "\u001b[0;31mNameError\u001b[0m                                 Traceback (most recent call last)",
            "\u001b[0;32m<ipython-input-5-de7c6ebf723a>\u001b[0m in \u001b[0;36m<cell line: 1>\u001b[0;34m()\u001b[0m\n\u001b[0;32m----> 1\u001b[0;31m \u001b[0mcalculate_slack_time_seconds\u001b[0m\u001b[0;34m(\u001b[0m\u001b[0mDept\u001b[0m\u001b[0;34m,\u001b[0m\u001b[0mArr\u001b[0m\u001b[0;34m,\u001b[0m \u001b[0mday1\u001b[0m\u001b[0;34m,\u001b[0m \u001b[0mday2\u001b[0m\u001b[0;34m,\u001b[0m \u001b[0mmean_turnaround_time\u001b[0m\u001b[0;34m)\u001b[0m\u001b[0;34m\u001b[0m\u001b[0;34m\u001b[0m\u001b[0m\n\u001b[0m",
            "\u001b[0;31mNameError\u001b[0m: name 'Dept' is not defined"
          ]
        }
      ]
    },
    {
      "cell_type": "markdown",
      "source": [
        "Optimization Model"
      ],
      "metadata": {
        "id": "Va0Uvm0CYYo2"
      }
    },
    {
      "cell_type": "code",
      "source": [
        "#Optimization master problem\n",
        "def route_optimizer(stagewise_routes , prop_delay , route_strings , sflights , assignedFlights , itr , penaltyCost , delayWeight):\n",
        "\n",
        "    model = ConcreteModel()\n",
        "    n = len(stagewise_routes)\n",
        "\n",
        "    uniqueFlights = []\n",
        "    multipleFlight = []\n",
        "    fp_dict = {}\n",
        "\n",
        "    for sr in stagewise_routes:\n",
        "        for s in sr:\n",
        "            uniqueFlights.append(s)\n",
        "\n",
        "    uniqueFlights = set(uniqueFlights)\n",
        "\n",
        "   m = len(sflights)\n",
        "   nparray = []\n",
        "   flightString = {}\n",
        "    ff = 0\n",
        "    for i in sflights:\n",
        "        if ff not in flightString:\n",
        "            flightString[ff] = []\n",
        "\n",
        "        npList=[]\n",
        "        cc = 0\n",
        "        for j in stagewise_routes:\n",
        "            if i in j:\n",
        "                npList.append(1)\n",
        "                flightString[ff].append(cc)\n",
        "            else:\n",
        "                npList.append(0)\n",
        "            cc+=1\n",
        "        nparray.append(npList)\n",
        "        ff+=1\n",
        "    varList = []\n",
        "    fvarList = []\n",
        "    stringFlight = {}\n",
        "    flightString = {}\n",
        "\n",
        "    for j in range(len(sflights)):\n",
        "        fvarList.append(j)\n",
        "        if j not in flightString:\n",
        "            flightString[j] = []\n",
        "\n",
        "    for i in range(n):\n",
        "        if i not in stringFlight:\n",
        "            stringFlight[i] = []\n",
        "\n",
        "            for s in sflights:\n",
        "                if s in stagewise_routes[i]:\n",
        "                    stringFlight[i].append(sflights.index(s))\n",
        "                    flightString[sflights.index(s)].append(i)\n",
        "\n",
        "    for i in range(n):\n",
        "        varList.append(i)\n",
        "\n",
        "    for s in sflights:\n",
        "        mf = 0\n",
        "        for key, value in stringFlight.items():\n",
        "            if sflights.index(s) in value:\n",
        "                mf+=1\n",
        "        if mf > 1:\n",
        "            multipleFlight.append(sflights.index(s))\n",
        "\n",
        "    model.xVar = Var(varList, within = Integers, bounds = (0,1), initialize = 0)\n",
        "    model.fVar = Var(fvarList, bounds = (0,1), initialize = 0)\n",
        "\n",
        "    ft = 0\n",
        "    if len(assignedFlights) > 0:\n",
        "        model.assignedFlights_constraint = ConstraintList()\n",
        "        for f in sflights:\n",
        "            if f in assignedFlights:\n",
        "                model.assignedFlights_constraint.add(model.fVar[ft] == 1)\n",
        "            ft+=1\n",
        "\n",
        "    model.cover_constraint = ConstraintList()\n",
        "    for i in range(m):\n",
        "        a=nparray[i]\n",
        "        add=0\n",
        "\n",
        "        for j in range(n):\n",
        "            k=a[j]*model.xVar[j]\n",
        "            add=add+k\n",
        "\n",
        "        model.cover_constraint.add(add <=1)\n",
        "\n",
        "    model.airport_capacity_constraint = ConstraintList()\n",
        "    model.airport_capacity_constraint.add(sum(model.xVar[i] for i in range(len(model.xVar))) <= len(model.xVar))\n",
        "\n",
        "    model.route_flight_constraint = ConstraintList()\n",
        "    for i in range(n):\n",
        "        model.route_flight_constraint.add(model.xVar[i] >= sum(model.fVar[j] for j in stringFlight[i]\n",
        "                                                               if j not in multipleFlight)/len(stringFlight[i]))\n",
        "\n",
        "    model.multiple_flight_constraint = ConstraintList()\n",
        "    for key, value in flightString.items():\n",
        "        if key in multipleFlight:\n",
        "            model.multiple_flight_constraint.add(model.fVar[key] <= sum(model.xVar[v] for v in value))\n",
        "\n",
        "    model.flight_string_constraint = ConstraintList()\n",
        "    for item, value in flightString.items():\n",
        "        model.flight_string_constraint.add(sum(model.xVar[v] for v in value) >= model.fVar[item])\n",
        "\n",
        "    aircraftRouting = []\n",
        "    penaltyProd = []\n",
        "    reward = []\n",
        "\n",
        "    for i in range(n):\n",
        "        penaltyProd.append(penaltyCost * len(stagewise_routes[i]) * model.xVar[i])\n",
        "        aircraftRouting.append(prop_delay[i] * model.xVar[i])\n",
        "\n",
        "    model.value = Objective(expr = sum(aircraftRouting) * delayWeight - sum(penaltyProd))\n",
        "\n",
        "\n",
        "    result_obj = SolverFactory('mindtpy').solve(model, mip_solver='glpk', nlp_solver = 'ipopt', tee = True)\n",
        "\n",
        "    sol_routes = []\n",
        "    sol_delay = []\n",
        "    index = []\n",
        "    flt = []\n",
        "    stringIndex = []\n",
        "    c = 0\n",
        "    for v in range(n):\n",
        "        if model.xVar[v].value != 0:\n",
        "            sol_routes.append(model.xVar[v].value)\n",
        "            sol_delay.append(prop_delay[v])\n",
        "            index.append(c)\n",
        "            stringIndex.append(v)\n",
        "        c+=1\n",
        "\n",
        "    for f in range(len(sflights)):\n",
        "        if model.fVar[f].value > 0.9:\n",
        "            flt.append(sflights[f])\n",
        "\n",
        "\n",
        "    return sol_routes, index, flt, sol_delay"
      ],
      "metadata": {
        "id": "2dABkxDGYau9"
      },
      "execution_count": null,
      "outputs": []
    },
    {
      "cell_type": "code",
      "source": [
        "origin_dict_og = {}\n",
        "destination_dict_og = {}\n",
        "object_dict_og = {}\n",
        "object_dict_copy = {}\n",
        "object_dict_dep_sort = {}\n",
        "allAirports = []\n",
        "allAircrafts = []\n",
        "flightCount = {}\n",
        "\n",
        "#Sort the flight leg nodes as per the time.\n",
        "\n",
        "for i,r in df.iterrows():\n",
        "    allAirports.append(r[\"ORIGIN\"])\n",
        "    allAirports.append(r[\"DEST\"])\n",
        "#     allAircrafts.append(r[\"TAIL_NUM\"][-2:])\n",
        "    if r[\"FLIGHTS\"] not in flightCount:\n",
        "        flightCount[r[\"FLIGHTS\"]] = 1\n",
        "    elif r[\"FLIGHTS\"] in flightCount:\n",
        "        flightCount[r[\"FLIGHTS\"]]+=1\n",
        "    if r[\"ORIGIN\"] not in aircraftStringCount:\n",
        "        aircraftStringCount[r[\"ORIGIN\"]] = []\n",
        "    origin_dict_og.update({i : originAirport(r[\"ORIGIN\"], r[\"CRS_DEP_DATETIME\"], r[\"DAY_OF_MONTH\"])})\n",
        "    destination_dict_og.update({i : destinationAirport(r[\"DEST\"], r[\"CRS_ARR_DATETIME\"], r[\"DAY_OF_MONTH\"],\n",
        "                                                       timedelta(days=0,hours=0,minutes=0,seconds=0), 0.0, 0)})\n",
        "    if r[\"CRS_DEP_DATETIME\"] not in object_dict_dep_sort:\n",
        "        object_dict_dep_sort[r[\"CRS_DEP_DATETIME\"]] = []\n",
        "        object_dict_dep_sort[r[\"CRS_DEP_DATETIME\"]].append(FlightLeg(r[\"ORIGIN\"],r[\"DEST\"],r[\"FLIGHTS\"],r[\"DAY_OF_MONTH\"],\n",
        "                                                                     r[\"ARR_DELAY_NEW\"], r[\"CRS_DEP_DATETIME\"],r[\"CRS_ARR_DATETIME\"]\n",
        "                                                                     ,0,0.0,None,0.0, 0, None, 0, 0, 0, r[\"CLUSTER_ID\"]\n",
        "                                                                     , 0, np.inf\n",
        "                                                                     ,r[\"Fleet\"], [], [], [], []))\n",
        "    else:\n",
        "        object_dict_dep_sort[r[\"CRS_DEP_DATETIME\"]].append(FlightLeg(r[\"ORIGIN\"],r[\"DEST\"],r[\"FLIGHTS\"],r[\"DAY_OF_MONTH\"],\n",
        "                                                                     r[\"ARR_DELAY_NEW\"], r[\"CRS_DEP_DATETIME\"],r[\"CRS_ARR_DATETIME\"]\n",
        "                                                                     ,0,0.0,None,0.0, 0, None, 0, 0, 0, r[\"CLUSTER_ID\"]\n",
        "                                                                     , 0, np.inf\n",
        "                                                                     ,r[\"Fleet\"], [], [], [], []))\n",
        "\n",
        "\n",
        "sorted_timestamp = sorted(object_dict_dep_sort)\n",
        "allAirports = list(set(allAirports))\n",
        "allAircrafts = list(set(allAircrafts))"
      ],
      "metadata": {
        "id": "I8AtmY0IIhWg"
      },
      "execution_count": null,
      "outputs": []
    },
    {
      "cell_type": "markdown",
      "source": [
        "Algorithm 1 and 2"
      ],
      "metadata": {
        "id": "vC8bhb_MYa8E"
      }
    },
    {
      "cell_type": "code",
      "source": [
        "first_node_origin = []\n",
        "first_node_list = []\n",
        "for i in range(len(object_dict_og)):\n",
        "    if i in object_dict_copy:\n",
        "        res = if_first_node(object_dict_copy[i], object_dict_copy)\n",
        "        if res:\n",
        "            object_dict_copy[i].sum_priority_idx = object_dict_copy[i].priorityIndex\n",
        "            object_dict_copy[i].elapsed_time = (object_dict_copy[i].arr_datetime - object_dict_copy[i].dep_datetime).total_seconds()\n",
        "            first_node_origin.append(object_dict_copy[i].origin)\n",
        "            first_node_list.append(i)"
      ],
      "metadata": {
        "id": "6L_NQZyZYdBb"
      },
      "execution_count": null,
      "outputs": []
    },
    {
      "cell_type": "code",
      "source": [
        "t0 = time.process_time()\n",
        "#fl_list = []\n",
        "finalDelay = []\n",
        "final_string_list = []\n",
        "final_string_str = []\n",
        "#f_assigned = []\n",
        "#Setting delayWeight to reflect their respective inclusion in the objective function. 0 indicates not be included.\n",
        "delayWeight = 1\n",
        "#penaltyCost parameter set to be used in the objective function, discussion for the selection of the value can be found in Section 7.2.3 of the paper\n",
        "penaltyCost = 1000\n",
        "#gamma1 and gamma2 indicate control parameters in the aggregation term as depicted in equation 11 of the paper\n",
        "gamma2 = 1\n",
        "gamma1 = 1\n",
        "sol = []\n",
        "#s_delay = []\n",
        "flightAssigned = []\n",
        "sol.append(-99)\n",
        "#tsearch = []\n",
        "#topt = []\n",
        "#tpath = []\n",
        "#tlink = []\n",
        "#itr = 1\n",
        "dispPathList = []\n",
        "while len(sol) != 0:\n",
        "    #ts1 = time.process_time()\n",
        "    first_node_tuple = []\n",
        "    first_node_list = []\n",
        "    for i in range(len(object_dict_og)):\n",
        "        if i in object_dict_copy:\n",
        "            res = if_first_node(object_dict_copy[i], object_dict_copy)\n",
        "            if res:\n",
        "                first_node_tuple.append((i, object_dict_copy[i].origin))\n",
        "                first_node_list.append(i)\n",
        "\n",
        "    #temp_dummy_list = []\n",
        "    #dummy_terminal_node_list = []\n",
        "    #dummy_terminal_node_str_list = []\n",
        "\n",
        "    #tl1 = time.process_time()\n",
        "    #for i in range(len(object_dict_og)):\n",
        "\n",
        "        if i in object_dict_copy:\n",
        "\n",
        "            if object_dict_copy[i].processed == 0:\n",
        "                best_prop_delay, best_prev_node_idx = get_best_feasible_link(object_dict_copy[i], object_dict_copy, gamma1, gamma2)\n",
        "                if best_prev_node_idx != -99 and best_prop_delay != np.inf\n",
        "                    object_dict_copy[i].pointer = best_prev_node_idx\n",
        "                    object_dict_copy[i].total_propagated_delay = best_prop_delay\n",
        "                    object_dict_copy[i].processed = 1\n",
        "\n",
        "\n",
        "            if object_dict_copy[i].processed == 1:\n",
        "                if object_dict_copy[i].pointer != 'dummy_start':\n",
        "                    for f in first_node_tuple:\n",
        "                        if object_dict_copy[i].pointer == f[0]:\n",
        "                            object_dict_copy[i].firstnodeorigin = f[1]\n",
        "\n",
        "                    if object_dict_copy[i].firstnodeorigin == None:\n",
        "                        object_dict_copy[i].firstnodeorigin = object_dict_copy[object_dict_copy[i].pointer].firstnodeorigin\n",
        "\n",
        "\n",
        "    #tl2 = time.process_time()\n",
        "    #tlink.append(tl2 - tl1)\n",
        "\n",
        "    #all_nodes_idx = object_dict_copy.keys()\n",
        "    all_pointer_idx = []\n",
        "    start_pointer_idx = []\n",
        "\n",
        "    for i in range(len(object_dict_og)):\n",
        "\n",
        "        if i in object_dict_copy:\n",
        "\n",
        "            if object_dict_copy[i].processed == 1:\n",
        "                if object_dict_copy[i].pointer != 'dummy_start':\n",
        "                    all_pointer_idx.append(object_dict_copy[i].pointer)\n",
        "\n",
        "                if object_dict_copy[i].pointer == 'dummy_start':\n",
        "                    start_pointer_idx.append(i)\n",
        "\n",
        "    for a in all_nodes_idx:\n",
        "\n",
        "        if a not in all_pointer_idx:\n",
        "            temp_dummy_list.append(a)\n",
        "    for d in temp_dummy_list:\n",
        "        if d not in start_pointer_idx:\n",
        "            if object_dict_copy[d].processed == 1:\n",
        "                dummy_terminal_node_list.append(d)\n",
        "                dummy_terminal_node_str_list.append(object_dict_copy[d].origin+'-'+object_dict_copy[d].dest)\n",
        "\n",
        "\n",
        "    #tp1 = time.process_time()\n",
        "    path_list, path_list_str, time_list = path_constructor(object_dict_copy , dummy_terminal_node_list , dummy_terminal_node_str_list)\n",
        "\n",
        "    #tp2 = time.process_time()\n",
        "    #tpath.append(tp2 - tp1)\n",
        "\n",
        "    prop_delay_list = []\n",
        "    sflights = []\n",
        "    assignedFlights = []\n",
        "\n",
        "    for pl in path_list:\n",
        "        for p in pl:\n",
        "            if p not in sflights:\n",
        "                sflights.append(p)\n",
        "            if p not in assignedFlights:\n",
        "                if object_dict_copy[p].priorityAssigned == 1:\n",
        "                    assignedFlights.append(p)\n",
        "\n",
        "\n",
        "    #for i in range(len(path_list)):\n",
        "        #prop_delay_list.append(object_dict_copy[path_list[i][len(path_list[i]) - 1]].total_propagated_delay)\n",
        "\n",
        "    orgCounter = []\n",
        "    if len(path_list) > 0:\n",
        "        to1 = time.process_time()\n",
        "        sol, idx, flt, sdelay = route_optimizer(path_list, prop_delay_list, path_list_str , sflights, assignedFlights , itr, penaltyCost , delayWeight,)\n",
        "\n",
        "        for i in idx:\n",
        "            dispPathList.append(path_list[i])\n",
        "        to2 = time.process_time()\n",
        "        topt.append(to2-to1)\n",
        "        itr+=1\n",
        "        finalDelay.append(sum(sdelay))\n",
        "        if len(flt) > 0:\n",
        "            for fll in flt:\n",
        "                f_assigned.append(fll)\n",
        "\n",
        "        for s in sdelay:\n",
        "            s_delay.append(s)\n",
        "\n",
        "        sol_path = []\n",
        "        flightsAfterselection = []\n",
        "        for i in idx:\n",
        "            sol_path.append(time_list[i])\n",
        "            for pl in path_list[i]:\n",
        "                if pl not in flightsAfterselection:\n",
        "                    flightsAfterselection.append(pl)\n",
        "\n",
        "\n",
        "        if len(sol) > 0:\n",
        "            for i in idx:\n",
        "                # print(\"Printing path solution: \", path_list[i])\n",
        "                for j in path_list[i]:\n",
        "                        if j in first_node_list:\n",
        "                            orgCounter.append((object_dict_copy[j].origin, object_dict_copy[path_list[i][-1]].dest))\n",
        "\n",
        "                        del object_dict_copy[j]\n",
        "\n",
        "    if len(path_list) == 0:\n",
        "        sol = []\n",
        "\n",
        "    if len(path_list) > 0:\n",
        "        for i in idx:\n",
        "            final_string_list.append(path_list[i])\n",
        "            final_string_str.append(path_list_str[i])\n",
        "\n",
        "\n",
        "    for i in range(len(object_dict_og)):\n",
        "        if i in object_dict_copy:\n",
        "            object_dict_copy[i].pointer = None\n",
        "            object_dict_copy[i].processed = 0\n",
        "            object_dict_copy[i].elapsed_time = 0.0\n",
        "            object_dict_copy[i].total_propagated_delay = 0.0\n",
        "\n",
        "    #ts2 = time.process_time()\n",
        "    #tsearch.append(ts2 - ts1)\n",
        "\n",
        "#t1 = time.process_time()\n",
        "\n",
        "#print(\"Time elapsed: \", t1-t0)"
      ],
      "metadata": {
        "id": "ugglrNqnYfDR"
      },
      "execution_count": null,
      "outputs": []
    },
    {
      "cell_type": "markdown",
      "source": [
        "Algorithm 3"
      ],
      "metadata": {
        "id": "7ALOmvUZQby3"
      }
    },
    {
      "cell_type": "code",
      "source": [
        "#To verify if the node is first node\n",
        "def if_first_node(node, node_dict):\n",
        "\n",
        "    res = False # Set default value of the node as not the first node\n",
        "    c = 0\n",
        "\n",
        "    for i in range(len(object_dict_og)):\n",
        "\n",
        "        if i in node_dict:\n",
        "\n",
        "            if node.origin == node_dict[i].dest:\n",
        "\n",
        "                # Check if the departure time of the node is the least among all the nodes\n",
        "                if node.dep_datetime > node_dict[i].arr_datetime:\n",
        "                    if node.day >= node_dict[i].day:\n",
        "        #                 if node.origin == node_dict[i].dest:\n",
        "                        c += 1\n",
        "                        break\n",
        "\n",
        "    if c == 0: # Even if 1 node found satisfying the above conditions\n",
        "\n",
        "        res = True\n",
        "        node.processed = 1\n",
        "        node.pointer = 'dummy_start'\n",
        "\n",
        "    return res"
      ],
      "metadata": {
        "id": "Up-_3P_oQdfM"
      },
      "execution_count": null,
      "outputs": []
    },
    {
      "cell_type": "markdown",
      "source": [
        "Algorithm 4"
      ],
      "metadata": {
        "id": "kNhkV82h4kKq"
      }
    },
    {
      "cell_type": "code",
      "source": [
        "def get_best_feasible_link(node, node_dict, gamma1, gamma2):\n",
        "\n",
        "    mean_turnaround_time = 0.0\n",
        "    curr_node_origin = node.origin\n",
        "    best_prop_delay = np.inf\n",
        "    best_prev_obj_node_idx = -99\n",
        "\n",
        "    for node_idx in np.arange(len(object_dict_og)):\n",
        "        if node_idx in node_dict:\n",
        "            if node_dict[node_idx].processed == 1:\n",
        "                dest = node_dict[node_idx].dest\n",
        "\n",
        "                if node.day >= node_dict[node_idx].day:\n",
        "                    if node.dep_datetime > node_dict[node_idx].arr_datetime:\n",
        "                        if curr_node_origin == dest:\n",
        "                            prev_elapsed_time = node_dict[node_idx].elapsed_time\n",
        "                            time_elapsed = calculate_time_elapsed(prev_elapsed_time,node_dict[node_idx].arr_datetime,\n",
        "                                                                  node.dep_datetime)\n",
        "\n",
        "                            if check_time_elapsed_validity_seconds(time_elapsed):\n",
        "                                slack_time = calculate_slack_time_seconds(node.dep_datetime ,node_dict[node_idx].arr_datetime\n",
        "                                                                          , node.day, node_dict[node_idx].day, mean_turnaround_time)\n",
        "\n",
        "                                if check_slack_time_seconds_validity(slack_time):\n",
        "                                    node.elapsed_time = time_elapsed\n",
        "                                    arrival_delay = node_dict[node_idx].arr_delay\n",
        "                                    prev_prop_delay = node_dict[node_idx].total_propagated_delay\n",
        "                                    prop_delay = calculate_propagated_delay_seconds(prev_prop_delay, arrival_delay, slack_time)\n",
        "\n",
        "\n",
        "\n",
        "\n",
        "\n",
        "    return best_prop_delay, best_prev_obj_node_idx"
      ],
      "metadata": {
        "id": "2vO6fALC4moN"
      },
      "execution_count": null,
      "outputs": []
    },
    {
      "cell_type": "markdown",
      "source": [
        "Algorithm 5"
      ],
      "metadata": {
        "id": "-JW_ikKSRamJ"
      }
    },
    {
      "cell_type": "code",
      "source": [
        "def path_constructor(node_dict, dummy_list, dummy_str_list):\n",
        "\n",
        "    route_list = []\n",
        "    route_list_str = []\n",
        "    time_list_str = []\n",
        "    demand_list = []\n",
        "    revenue_list = []\n",
        "    normalized_revenue_list = []\n",
        "\n",
        "\n",
        "    for i in node_dict:\n",
        "        dummy_route = []\n",
        "        dummy_route_str = []\n",
        "        dummy_time_str = []\n",
        "        dummy_demand_list = []\n",
        "        dummy_revenue_list = []\n",
        "        dummy_normalized_revenue_list = []\n",
        "\n",
        "        if i in dummy_list:\n",
        "            pointer = node_dict[i].pointer\n",
        "            subroute_str = str(node_dict[i].origin)+'-'+str(node_dict[i].dest)\n",
        "            subroute_time_str = str(node_dict[i].origin) + '-' + str(node_dict[i].dep_datetime)+'-'+str(node_dict[i].dest)  + '-' + str(node_dict[i].arr_datetime)\n",
        "            dummy_route.append(i)\n",
        "            dummy_route_str.append(subroute_str)\n",
        "            dummy_time_str.append(subroute_time_str)\n",
        "\n",
        "\n",
        "            while pointer != 'dummy_start':\n",
        "                if pointer != 'dummy_start':\n",
        "                dummy_route.append(pointer)\n",
        "                subroute_str = str(node_dict[pointer].origin)+'-'+str(node_dict[pointer].dest)\n",
        "                subroute_time_str = str(node_dict[pointer].origin) + '-' + str(node_dict[pointer].dep_datetime)+'-'+str(node_dict[pointer].dest) + '-' + str(node_dict[pointer].arr_datetime)\n",
        "                dummy_route_str.append(subroute_str)\n",
        "                dummy_time_str.append(subroute_time_str)\n",
        "                pointer = node_dict[pointer].pointer\n",
        "\n",
        "        if len(dummy_route) > 0:\n",
        "            dummy_route.reverse()\n",
        "            dummy_route_str.reverse()\n",
        "            dummy_time_str.reverse()\n",
        "\n",
        "            route_list.append(dummy_route)\n",
        "            route_list_str.append(dummy_route_str)\n",
        "            time_list_str.append(dummy_time_str)\n",
        "\n",
        "    return (route_list, route_list_str , time_list_str)"
      ],
      "metadata": {
        "id": "FNDbUlRfRcJ3"
      },
      "execution_count": null,
      "outputs": []
    }
  ]
}