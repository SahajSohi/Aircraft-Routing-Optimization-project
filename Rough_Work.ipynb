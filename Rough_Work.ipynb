{
  "nbformat": 4,
  "nbformat_minor": 0,
  "metadata": {
    "colab": {
      "provenance": [],
      "authorship_tag": "ABX9TyOqtGicp5tWpufh26JS67JJ",
      "include_colab_link": true
    },
    "kernelspec": {
      "name": "python3",
      "display_name": "Python 3"
    },
    "language_info": {
      "name": "python"
    }
  },
  "cells": [
    {
      "cell_type": "markdown",
      "metadata": {
        "id": "view-in-github",
        "colab_type": "text"
      },
      "source": [
        "<a href=\"https://colab.research.google.com/github/SahajSohi/Aircraft-Routing-Optimization-project/blob/main/Rough_Work.ipynb\" target=\"_parent\"><img src=\"https://colab.research.google.com/assets/colab-badge.svg\" alt=\"Open In Colab\"/></a>"
      ]
    },
    {
      "cell_type": "code",
      "execution_count": 2,
      "metadata": {
        "colab": {
          "base_uri": "https://localhost:8080/"
        },
        "id": "zfsndtrR6WLy",
        "outputId": "a076026d-002e-46eb-d409-a95188506ebb"
      },
      "outputs": [
        {
          "output_type": "stream",
          "name": "stdout",
          "text": [
            "Collecting pyomo\n",
            "  Downloading Pyomo-6.7.3-cp310-cp310-manylinux_2_17_x86_64.manylinux2014_x86_64.whl (12.8 MB)\n",
            "\u001b[2K     \u001b[90m━━━━━━━━━━━━━━━━━━━━━━━━━━━━━━━━━━━━━━━━\u001b[0m \u001b[32m12.8/12.8 MB\u001b[0m \u001b[31m40.9 MB/s\u001b[0m eta \u001b[36m0:00:00\u001b[0m\n",
            "\u001b[?25hCollecting ply (from pyomo)\n",
            "  Downloading ply-3.11-py2.py3-none-any.whl (49 kB)\n",
            "\u001b[2K     \u001b[90m━━━━━━━━━━━━━━━━━━━━━━━━━━━━━━━━━━━━━━━━\u001b[0m \u001b[32m49.6/49.6 kB\u001b[0m \u001b[31m5.4 MB/s\u001b[0m eta \u001b[36m0:00:00\u001b[0m\n",
            "\u001b[?25hInstalling collected packages: ply, pyomo\n",
            "Successfully installed ply-3.11 pyomo-6.7.3\n",
            "Reading package lists... Done\n",
            "Building dependency tree... Done\n",
            "Reading state information... Done\n",
            "The following additional packages will be installed:\n",
            "  libamd2 libcolamd2 libglpk40 libsuitesparseconfig5\n",
            "Suggested packages:\n",
            "  libiodbc2-dev\n",
            "The following NEW packages will be installed:\n",
            "  glpk-utils libamd2 libcolamd2 libglpk40 libsuitesparseconfig5\n",
            "0 upgraded, 5 newly installed, 0 to remove and 45 not upgraded.\n",
            "Need to get 625 kB of archives.\n",
            "After this operation, 2,158 kB of additional disk space will be used.\n",
            "Get:1 http://archive.ubuntu.com/ubuntu jammy/main amd64 libsuitesparseconfig5 amd64 1:5.10.1+dfsg-4build1 [10.4 kB]\n",
            "Get:2 http://archive.ubuntu.com/ubuntu jammy/universe amd64 libamd2 amd64 1:5.10.1+dfsg-4build1 [21.6 kB]\n",
            "Get:3 http://archive.ubuntu.com/ubuntu jammy/main amd64 libcolamd2 amd64 1:5.10.1+dfsg-4build1 [18.0 kB]\n",
            "Get:4 http://archive.ubuntu.com/ubuntu jammy/universe amd64 libglpk40 amd64 5.0-1 [361 kB]\n",
            "Get:5 http://archive.ubuntu.com/ubuntu jammy/universe amd64 glpk-utils amd64 5.0-1 [214 kB]\n",
            "Fetched 625 kB in 0s (1,985 kB/s)\n",
            "Selecting previously unselected package libsuitesparseconfig5:amd64.\n",
            "(Reading database ... 123586 files and directories currently installed.)\n",
            "Preparing to unpack .../libsuitesparseconfig5_1%3a5.10.1+dfsg-4build1_amd64.deb ...\n",
            "Unpacking libsuitesparseconfig5:amd64 (1:5.10.1+dfsg-4build1) ...\n",
            "Selecting previously unselected package libamd2:amd64.\n",
            "Preparing to unpack .../libamd2_1%3a5.10.1+dfsg-4build1_amd64.deb ...\n",
            "Unpacking libamd2:amd64 (1:5.10.1+dfsg-4build1) ...\n",
            "Selecting previously unselected package libcolamd2:amd64.\n",
            "Preparing to unpack .../libcolamd2_1%3a5.10.1+dfsg-4build1_amd64.deb ...\n",
            "Unpacking libcolamd2:amd64 (1:5.10.1+dfsg-4build1) ...\n",
            "Selecting previously unselected package libglpk40:amd64.\n",
            "Preparing to unpack .../libglpk40_5.0-1_amd64.deb ...\n",
            "Unpacking libglpk40:amd64 (5.0-1) ...\n",
            "Selecting previously unselected package glpk-utils.\n",
            "Preparing to unpack .../glpk-utils_5.0-1_amd64.deb ...\n",
            "Unpacking glpk-utils (5.0-1) ...\n",
            "Setting up libsuitesparseconfig5:amd64 (1:5.10.1+dfsg-4build1) ...\n",
            "Setting up libamd2:amd64 (1:5.10.1+dfsg-4build1) ...\n",
            "Setting up libcolamd2:amd64 (1:5.10.1+dfsg-4build1) ...\n",
            "Setting up libglpk40:amd64 (5.0-1) ...\n",
            "Setting up glpk-utils (5.0-1) ...\n",
            "Processing triggers for man-db (2.10.2-1) ...\n",
            "Processing triggers for libc-bin (2.35-0ubuntu3.4) ...\n",
            "/sbin/ldconfig.real: /usr/local/lib/libtbbbind_2_0.so.3 is not a symbolic link\n",
            "\n",
            "/sbin/ldconfig.real: /usr/local/lib/libtbbbind.so.3 is not a symbolic link\n",
            "\n",
            "/sbin/ldconfig.real: /usr/local/lib/libtbbmalloc.so.2 is not a symbolic link\n",
            "\n",
            "/sbin/ldconfig.real: /usr/local/lib/libtbb.so.12 is not a symbolic link\n",
            "\n",
            "/sbin/ldconfig.real: /usr/local/lib/libtbbmalloc_proxy.so.2 is not a symbolic link\n",
            "\n",
            "/sbin/ldconfig.real: /usr/local/lib/libtbbbind_2_5.so.3 is not a symbolic link\n",
            "\n"
          ]
        }
      ],
      "source": [
        "import pandas as pd\n",
        "import numpy as np\n",
        "import datetime\n",
        "from datetime import timedelta\n",
        "import random\n",
        "import copy\n",
        "import time\n",
        "import plotly.express as px\n",
        "import matplotlib.pyplot as plt\n",
        "random.seed(0)\n",
        "np.random.seed(0)\n",
        "!pip install pyomo\n",
        "!apt-get install -y glpk-utils\n",
        "\n",
        "import pyomo.environ as pyo\n",
        "from pyomo.opt import SolverFactory"
      ]
    },
    {
      "cell_type": "code",
      "source": [
        "df=pd.read_excel('/content/Test_Case_1 (2).xlsx')"
      ],
      "metadata": {
        "id": "4l1bsY6TCLR0"
      },
      "execution_count": 3,
      "outputs": []
    },
    {
      "cell_type": "code",
      "source": [
        "class airport:\n",
        "\n",
        "    def __init__(self, aport, aircraftCount_dict):\n",
        "        self.aport = aport\n",
        "        self.aircraftCount_dict = aircraftCount_dict\n",
        "\n",
        "class originAirport:\n",
        "\n",
        "    def __init__(self, airport, deptime, depday):\n",
        "        self.airport = airport\n",
        "        self.deptime = deptime\n",
        "        self.depday = depday\n",
        "class destinationAirport:\n",
        "\n",
        "    def __init__(self, airport, arrtime, arrday, elapsed_time, total_prop_delay, flight_time):\n",
        "        self.airport = airport\n",
        "        self.arrtime = arrtime\n",
        "        self.arrday = arrday\n",
        "        self.elapsed_time = elapsed_time\n",
        "        self.total_prop_delay = total_prop_delay\n",
        "        self.flight_time = flight_time\n",
        "\n",
        "class FlightLeg:\n",
        "\n",
        "    def __init__(self,origin,dest,flights,day,arr_delay,dep_datetime,arr_datetime,flighttime,\n",
        "                 total_propagated_delay,pointer,elapsed_time, processed, firstnodeorigin, fleet):\n",
        "        self.origin = origin\n",
        "        self.dest = dest\n",
        "        self.flights = flights\n",
        "        self.day = day\n",
        "        self.arr_delay = arr_delay\n",
        "        self.dep_datetime = self.dateTimeObject(str(dep_datetime))\n",
        "        self.arr_datetime = self.dateTimeObject(str(arr_datetime))\n",
        "        self.flighttime = flighttime\n",
        "        self.total_propagated_delay = total_propagated_delay\n",
        "        self.pointer = pointer\n",
        "        self.elapsed_time = elapsed_time\n",
        "        self.processed = processed\n",
        "        self.firstnodeorigin = firstnodeorigin\n",
        "        self.fleet = fleet\n",
        "\n",
        "    def dateTimeObject(self,String):\n",
        "        return datetime.datetime.strptime(String,\"%Y-%m-%d %H:%M:%S\")"
      ],
      "metadata": {
        "id": "eRbPtYEPCyh-"
      },
      "execution_count": 4,
      "outputs": []
    },
    {
      "cell_type": "code",
      "source": [
        "def calculate_slack_time_seconds(Dept,Arr, day1, day2, mean_turnaround_time):\n",
        "    if day1 >= day2:\n",
        "        return ((Dept-Arr).total_seconds() - mean_turnaround_time)\n",
        "    else:\n",
        "        return -99\n",
        "\n",
        "def check_slack_time_seconds_validity(slack_time):\n",
        "    return (24.*3600)>=slack_time>=0 #Check for flights within stipulated time for connection not beyond that\n",
        "\n",
        "def check_time_elapsed_validity_seconds(time_elapsed):\n",
        "    return (0<=time_elapsed<=36*60*60)\n",
        "\n",
        "def calculate_propagated_delay_seconds(prev_prop_delay,arrival_delay,slack_time):\n",
        "    prop_delay = prev_prop_delay+arrival_delay-slack_time # when arrival delay is in seconds\n",
        "    return max(0, prop_delay)\n",
        "\n",
        "def calculate_time_elapsed(prev_elapsed_time,Arr,Dept):\n",
        "    return prev_elapsed_time+(Dept-Arr).total_seconds()"
      ],
      "metadata": {
        "id": "Mtc6cHs8C87I"
      },
      "execution_count": 5,
      "outputs": []
    },
    {
      "cell_type": "code",
      "source": [
        "#Optimization problem\n",
        "def route_optimizer(stagewise_routes, prop_delay, route_strings , assignedFlights, itr):\n",
        "\n",
        "    model = ConcreteModel()\n",
        "    n = len(stagewise_routes)\n",
        "\n",
        "    uniqueFlights = []\n",
        "    multipleFlight = []\n",
        "    fp_dict = {}\n",
        "\n",
        "    for sr in stagewise_routes:\n",
        "        for s in sr:\n",
        "            uniqueFlights.append(s)\n",
        "\n",
        "    uniqueFlights = set(uniqueFlights)\n",
        ""
      ],
      "metadata": {
        "id": "aHBYNQp_C9vH"
      },
      "execution_count": 14,
      "outputs": []
    }
  ]
}