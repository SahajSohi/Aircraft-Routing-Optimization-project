{
  "nbformat": 4,
  "nbformat_minor": 0,
  "metadata": {
    "colab": {
      "provenance": [],
      "authorship_tag": "ABX9TyMdAvmXw92GbWkc2tIfVjKk",
      "include_colab_link": true
    },
    "kernelspec": {
      "name": "python3",
      "display_name": "Python 3"
    },
    "language_info": {
      "name": "python"
    }
  },
  "cells": [
    {
      "cell_type": "markdown",
      "metadata": {
        "id": "view-in-github",
        "colab_type": "text"
      },
      "source": [
        "<a href=\"https://colab.research.google.com/github/SahajSohi/Aircraft-Routing-Optimization-project/blob/main/Data_Cleaning_code.ipynb\" target=\"_parent\"><img src=\"https://colab.research.google.com/assets/colab-badge.svg\" alt=\"Open In Colab\"/></a>"
      ]
    },
    {
      "cell_type": "code",
      "execution_count": 5,
      "metadata": {
        "id": "thS1WejOhr3F"
      },
      "outputs": [],
      "source": [
        "import pandas as pd\n",
        "import numpy as np\n",
        "from datetime import timedelta\n",
        "from datetime import datetime"
      ]
    },
    {
      "cell_type": "code",
      "source": [
        "main_df = pd.read_excel('/content/Indigo_Flight_Schedule.xlsx')"
      ],
      "metadata": {
        "id": "fEGItaDjhvdp"
      },
      "execution_count": 6,
      "outputs": []
    },
    {
      "cell_type": "code",
      "source": [
        "crsArr = []\n",
        "crsDep = []\n",
        "flights = []\n",
        "\n",
        "for i, r in main_df.iterrows():\n",
        "    crsArr.append(datetime(int(2022), int(r[\"MONTH\"]), int(r[\"DAY_OF_MONTH\"])\n",
        "                           , int(r[\"Arrival(LT)\"].split(\":\")[0])\n",
        "                           , int(r[\"Arrival(LT)\"].split(\":\")[1]), 0))\n",
        "    crsDep.append(datetime(int(2022), int(r[\"MONTH\"]), int(r[\"DAY_OF_MONTH\"])\n",
        "                           , int(r[\"Departure(LT)\"].split(\":\")[0])\n",
        "                           , int(r[\"Departure(LT)\"].split(\":\")[1]), 0))\n",
        "    flights.append(str(r[\"ORIGIN\"]) + str(\"-\") + str(r[\"DEST\"]))\n",
        "\n",
        "main_df[\"CRS_DEP_DATETIME\"] = crsDep\n",
        "main_df[\"CRS_ARR_DATETIME\"] = crsArr\n",
        "main_df[\"FLIGHTS\"] = flights"
      ],
      "metadata": {
        "id": "CrliqAasiMvJ"
      },
      "execution_count": 7,
      "outputs": []
    },
    {
      "cell_type": "code",
      "source": [
        "main_df.to_excel(\"Indigo_Data_Format.xlsx\",index=False)"
      ],
      "metadata": {
        "id": "7fCg21ZyaBNM"
      },
      "execution_count": 8,
      "outputs": []
    }
  ]
}